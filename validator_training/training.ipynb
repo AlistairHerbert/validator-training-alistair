{
 "cells": [
  {
   "cell_type": "code",
   "execution_count": 17,
   "metadata": {},
   "outputs": [],
   "source": [
    "# Remember to pip install pytest\n",
    "\n",
    "import pandas as pd\n",
    "from utils import read_cin_data\n",
    "import pytest\n",
    "\n",
    "collection_start = pd.to_datetime(\"01/04/2021\", dayfirst=True)\n",
    "collection_end = pd.to_datetime(\"31/03/2022\", dayfirst=True)\n",
    "\n",
    "(\n",
    "    ChildCharacteristics,\n",
    "    ChildIdentifiers,\n",
    "    ChildProtectionPlans, # No data in here\n",
    "    CINdetails,\n",
    "    CINplanDates, # No data in here\n",
    "    Header,\n",
    "    Reviews, # No data in here\n",
    "    Section47, # No data in here\n",
    ") = read_cin_data()"
   ]
  },
  {
   "cell_type": "markdown",
   "metadata": {},
   "source": [
    "We'll try rules as simply doing slices before we try doing them as functions, and before we write tests for them\n",
    "\n",
    "# Rules to try:\n",
    "- rule 4180: <GenderCurrent> (N00097) must be present and valid\n",
    "- rule 4220: <Ethnicity> (N00177) must be present and a valid code\n",
    "- rule 100: <ReferenceDate> (N00603) must be present and must equal 2022-03-31\n",
    "- rule 1520: Each pupil <UPN> (N00001) must be unique across all pupils in the extract\n",
    "- rule 8510: Each <LAchildID> (N00097) must be unique across all children within the same LA return. \n",
    "- rule 1540: If <UPN> (N00001) present Characters 5-12 of <UPN> must be numeric\n",
    "- rule 8520: <PersonBirthDate> (N00066) must be on or before <ReferenceDate> (N00603) or null\n",
    "- rule 8525Q: Either Date of Birth or Expected Date of Birth must be provided (but not both)\n",
    "- rule 8600: Child referral date missing or after data collection period\n",
    "\n",
    "# Harder but better practice (eg needing 2 or more tables):\n",
    "- rule 8606: <CINreferralDate> (N00100) cannot be more than 280 days before <PersonBirthDate> (N00066) or <ExpectedPersonBirthDate>\n",
    "\n",
    "# The following are great to do, but can only really be done with appropriate test_xxxx functions as there isn't sufficeint fake data to do them otherwise"
   ]
  },
  {
   "cell_type": "code",
   "execution_count": 11,
   "metadata": {},
   "outputs": [
    {
     "data": {
      "text/plain": [
       "Index([9, 21, 32, 45], dtype='int64')"
      ]
     },
     "execution_count": 11,
     "metadata": {},
     "output_type": "execute_result"
    }
   ],
   "source": [
    "# Lets do 4180 as an example.\n",
    "# For the cin validator, we find failing rows and return the index locations of those rows as a list\n",
    "\n",
    "valid_gender_codes = [\"1\", \"2\", \"0\", \"9\"]\n",
    "\n",
    "df = ChildIdentifiers\n",
    "\n",
    "failing_rows = df[~df['GenderCurrent'].isin(valid_gender_codes)].index\n",
    "\n",
    "failing_rows\n"
   ]
  },
  {
   "cell_type": "markdown",
   "metadata": {},
   "source": [
    "Lets rewrite these as fucntions so we can pop them inside pytests and so it's more relevant to the validator code. We will do this in a test_XXXX.py file."
   ]
  }
 ],
 "metadata": {
  "kernelspec": {
   "display_name": "Python 3",
   "language": "python",
   "name": "python3"
  },
  "language_info": {
   "codemirror_mode": {
    "name": "ipython",
    "version": 3
   },
   "file_extension": ".py",
   "mimetype": "text/x-python",
   "name": "python",
   "nbconvert_exporter": "python",
   "pygments_lexer": "ipython3",
   "version": "3.10.13"
  }
 },
 "nbformat": 4,
 "nbformat_minor": 2
}
