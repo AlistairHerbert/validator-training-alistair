{
 "cells": [
  {
   "cell_type": "code",
   "execution_count": 8,
   "metadata": {},
   "outputs": [],
   "source": [
    "# Remember to pip install pytest\n",
    "\n",
    "import pandas as pd\n",
    "from utils import read_cin_data\n",
    "import pytest\n",
    "\n",
    "(\n",
    "    ChildCharacteristics,\n",
    "    ChildIdentifiers,\n",
    "    ChildProtectionPlans, # No data in here\n",
    "    CINdetails,\n",
    "    CINplanDates, # No data in here\n",
    "    Header,\n",
    "    Reviews, # No data in here\n",
    "    Section47, # No data in here\n",
    ") = read_cin_data()"
   ]
  },
  {
   "cell_type": "markdown",
   "metadata": {},
   "source": [
    "We'll try rules as simply doing slices before we try doing them as functions, and before we write tests for them\n",
    "\n",
    "Rules to try:\n",
    "- rule 4180: <GenderCurrent> (N00097) must be present and valid\n",
    "- rule 4220: <Ethnicity> (N00177) must be present and a valid code\n",
    "- rule 100: <ReferenceDate> (N00603) must be present and must equal 2022-03-31\n",
    "- rule 1520: Each pupil <UPN> (N00001) must be unique across all pupils in the extract\n",
    "- rule 8510: Each <LAchildID> (N00097) must be unique across all children within the same LA return. \n",
    "- rule 1540: If <UPN> (N00001) present Characters 5-12 of <UPN> must be numeric"
   ]
  },
  {
   "cell_type": "code",
   "execution_count": 11,
   "metadata": {},
   "outputs": [
    {
     "data": {
      "text/plain": [
       "Index([9, 21, 32, 45], dtype='int64')"
      ]
     },
     "execution_count": 11,
     "metadata": {},
     "output_type": "execute_result"
    }
   ],
   "source": [
    "# Lets do 4180 as an example.\n",
    "# For the cin validator, we find failing rows and return the index locations of those rows as a list\n",
    "\n",
    "valid_gender_codes = [\"1\", \"2\", \"0\", \"9\"]\n",
    "\n",
    "df = ChildIdentifiers\n",
    "\n",
    "failing_rows = df[~df['GenderCurrent'].isin(valid_gender_codes)].index\n",
    "\n",
    "failing_rows\n"
   ]
  },
  {
   "cell_type": "markdown",
   "metadata": {},
   "source": [
    "Lets rewrite these as fucntions so we can pop them inside pytests and so it's more relevant to the validator code."
   ]
  },
  {
   "cell_type": "code",
   "execution_count": 16,
   "metadata": {},
   "outputs": [
    {
     "ename": "SyntaxError",
     "evalue": "invalid syntax (3783209921.py, line 24)",
     "output_type": "error",
     "traceback": [
      "\u001b[0;36m  Cell \u001b[0;32mIn[16], line 24\u001b[0;36m\u001b[0m\n\u001b[0;31m    print(assert result == [4, 5, 6])\u001b[0m\n\u001b[0m          ^\u001b[0m\n\u001b[0;31mSyntaxError\u001b[0m\u001b[0;31m:\u001b[0m invalid syntax\n"
     ]
    }
   ],
   "source": [
    "def rule_4180(df):\n",
    "    valid_gender_codes = [\"1\", \"2\", \"0\", \"9\"]\n",
    "\n",
    "    failing_rows = df[~df['GenderCurrent'].isin(valid_gender_codes)].index\n",
    "\n",
    "    return list(failing_rows)\n",
    "\n",
    "\n",
    "def test_rule_4180():\n",
    "\n",
    "    ChildIdentifiers = pd.DataFrame(\n",
    "        {'GenderCurrent':[\"1\", \n",
    "                          \"2\", \n",
    "                          \"0\",\n",
    "                          \"9\",\n",
    "                          \"4\", # 4, fail\n",
    "                          1, #5, fail\n",
    "                          \"just a word\" # 6, fail\n",
    "                          ]}\n",
    "    )\n",
    "\n",
    "    result = rule_4180(ChildIdentifiers)\n",
    "\n",
    "    assert result == [4, 5, 6]\n",
    "\n",
    "\n"
   ]
  }
 ],
 "metadata": {
  "kernelspec": {
   "display_name": "Python 3",
   "language": "python",
   "name": "python3"
  },
  "language_info": {
   "codemirror_mode": {
    "name": "ipython",
    "version": 3
   },
   "file_extension": ".py",
   "mimetype": "text/x-python",
   "name": "python",
   "nbconvert_exporter": "python",
   "pygments_lexer": "ipython3",
   "version": "3.10.13"
  }
 },
 "nbformat": 4,
 "nbformat_minor": 2
}
